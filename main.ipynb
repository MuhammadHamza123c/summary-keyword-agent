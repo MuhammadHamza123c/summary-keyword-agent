{
 "cells": [
  {
   "cell_type": "code",
   "execution_count": 80,
   "id": "91db5af7",
   "metadata": {},
   "outputs": [
    {
     "name": "stdout",
     "output_type": "stream",
     "text": [
      "SUMMARY KEY AGENT\n"
     ]
    }
   ],
   "source": [
    "print(\"SUMMARY KEY AGENT\")"
   ]
  },
  {
   "cell_type": "code",
   "execution_count": null,
   "id": "12b3bfcf",
   "metadata": {},
   "outputs": [
    {
     "data": {
      "text/plain": [
       "True"
      ]
     },
     "execution_count": 81,
     "metadata": {},
     "output_type": "execute_result"
    }
   ],
   "source": [
    "from langchain_google_genai import ChatGoogleGenerativeAI\n",
    "\n",
    "from dotenv import load_dotenv\n",
    "import os\n",
    "load_dotenv()"
   ]
  },
  {
   "cell_type": "code",
   "execution_count": 82,
   "id": "66f6b136",
   "metadata": {},
   "outputs": [],
   "source": [
    "GOOGLE_API_KEY=os.getenv(\"GOOGLE_API_KEY\")\n"
   ]
  },
  {
   "cell_type": "code",
   "execution_count": 83,
   "id": "2809aed2",
   "metadata": {},
   "outputs": [],
   "source": [
    "from langchain.prompts import PromptTemplate\n",
    "from langchain.chains import LLMChain"
   ]
  },
  {
   "cell_type": "code",
   "execution_count": 84,
   "id": "408076e6",
   "metadata": {},
   "outputs": [],
   "source": [
    "def summary_agent(user_input:str)->str:\n",
    "    llm=ChatGoogleGenerativeAI(model='gemini-2.5-flash',temperature=0.3)\n",
    "    prompt=PromptTemplate(template=\"\"\"You are a Summary Agent. You will get a text and you have to summarize it.\n",
    "    Here is an example:\n",
    "    Input:\n",
    "\"Artificial Intelligence (AI) refers to the simulation of human intelligence in machines that are designed to think and act like humans. Applications of AI include speech recognition, decision-making, and language translation. AI has the potential to transform industries but also raises concerns about job displacement and ethics.\"\n",
    "\n",
    "Output:\n",
    "\"AI is the simulation of human intelligence in machines, used in speech recognition, decision-making, and translation. It offers major benefits but raises ethical and job-related concerns.\n",
    "Here is text: {input}\"\"\",input_variables=['input'])\n",
    "    agent_summ=LLMChain(llm=llm,prompt=prompt,output_key='Summary')\n",
    "    response=agent_summ.invoke({'input': user_input})\n",
    "    return response\n",
    "    \n"
   ]
  },
  {
   "cell_type": "code",
   "execution_count": 85,
   "id": "6262b927",
   "metadata": {},
   "outputs": [],
   "source": [
    "def keyword_agent(user_input:str)->str:\n",
    "    llm=ChatGoogleGenerativeAI(\n",
    "        model='gemini-2.5-flash',\n",
    "        temperature=0.3\n",
    "    )\n",
    "    prompt=PromptTemplate(\n",
    "        template=\"\"\"You are a Keyword Extractor Agent. Your task is to read a piece of text and extract the most important keywords that represent its core ideas. Do not include stopwords or irrelevant words. Return keywords as a simple comma-separated list.\n",
    "\n",
    "Example:\n",
    "Input:\n",
    "\"Artificial Intelligence (AI) refers to the simulation of human intelligence in machines. Applications include speech recognition, decision-making, and language translation. AI is transforming industries but also raises ethical concerns.\"\n",
    "\n",
    "Output:\n",
    "\"Artificial Intelligence, AI, simulation, human intelligence, speech recognition, decision-making, language translation, industries, ethics\"\n",
    "\n",
    "Now, extract keywords from this text:\n",
    "{input}\n",
    "\"\"\",input_variables=['input']\n",
    "    )\n",
    "    agent_keyword=LLMChain(llm=llm,prompt=prompt,output_key='Keyword')\n",
    "    response=agent_keyword.invoke({\n",
    "        'input':user_input\n",
    "    })\n",
    "    return response\n",
    "\n",
    "    "
   ]
  },
  {
   "cell_type": "code",
   "execution_count": 86,
   "id": "6a2e8668",
   "metadata": {},
   "outputs": [],
   "source": [
    "from langchain.tools import Tool\n",
    "from langchain.agents import initialize_agent\n",
    "from langchain.agents.agent_types import AgentType"
   ]
  },
  {
   "cell_type": "code",
   "execution_count": 87,
   "id": "5e989b1a",
   "metadata": {},
   "outputs": [
    {
     "data": {
      "text/plain": [
       "[Tool(name='Summary Agent', description='Use this tool when user wants to summarize or make the text short', func=<function summary_agent at 0x000002D3047B9300>),\n",
       " Tool(name='Keyword Agent', description='Use this tool when user wants to extract keywords or keypoints from the given text', func=<function keyword_agent at 0x000002D3047BA0C0>)]"
      ]
     },
     "execution_count": 87,
     "metadata": {},
     "output_type": "execute_result"
    }
   ],
   "source": [
    "tool=[\n",
    "    Tool(\n",
    "        name='Summary Agent',\n",
    "        func=summary_agent,\n",
    "        description='Use this tool when user wants to summarize or make the text short'\n",
    "    ),\n",
    "    Tool(\n",
    "        name='Keyword Agent',\n",
    "        func=keyword_agent,\n",
    "        description='Use this tool when user wants to extract keywords or keypoints from the given text'\n",
    "    )\n",
    "]\n",
    "tool"
   ]
  },
  {
   "cell_type": "code",
   "execution_count": 88,
   "id": "31a77ab1",
   "metadata": {},
   "outputs": [],
   "source": [
    "main_llm=ChatGoogleGenerativeAI(\n",
    "    model='gemini-2.0-flash',\n",
    "    temperature=0.6\n",
    ")"
   ]
  },
  {
   "cell_type": "code",
   "execution_count": 89,
   "id": "e1c37587",
   "metadata": {},
   "outputs": [],
   "source": [
    "agents=initialize_agent(\n",
    "    llm=main_llm,tools=tool,agent_type=AgentType.ZERO_SHOT_REACT_DESCRIPTION,verbose=True\n",
    ")"
   ]
  },
  {
   "cell_type": "markdown",
   "id": "b5559ca9",
   "metadata": {},
   "source": [
    "SUMMARY AGENT"
   ]
  },
  {
   "cell_type": "code",
   "execution_count": 90,
   "id": "c2c0b941",
   "metadata": {},
   "outputs": [
    {
     "name": "stdout",
     "output_type": "stream",
     "text": [
      "\n",
      "\n",
      "\u001b[1m> Entering new AgentExecutor chain...\u001b[0m\n",
      "\u001b[32;1m\u001b[1;3mThe user wants a summary of the provided text. I should use the Summary Agent to achieve this.\n",
      "Action: Summary Agent\n",
      "Action Input: Donald Trump and Narendra Modi are both strong political figures known for their bold speaking styles and nationalist agendas. Trump, former President of the United States, often focused on “America First” policies, emphasizing immigration control, trade protectionism, and economic growth through deregulation. Modi, the Prime Minister of India, promotes a “self-reliant India” vision, highlighting Hindu cultural identity, digital development, and economic reforms. While Trump is seen as unpredictable and confrontational in global politics, Modi presents himself as disciplined and strategic, building long-term political dominance at home. Both leaders rely heavily on public rallies, social media, and populist messaging to connect with their supporters.\u001b[0m\n",
      "Observation: \u001b[36;1m\u001b[1;3m{'input': 'Donald Trump and Narendra Modi are both strong political figures known for their bold speaking styles and nationalist agendas. Trump, former President of the United States, often focused on “America First” policies, emphasizing immigration control, trade protectionism, and economic growth through deregulation. Modi, the Prime Minister of India, promotes a “self-reliant India” vision, highlighting Hindu cultural identity, digital development, and economic reforms. While Trump is seen as unpredictable and confrontational in global politics, Modi presents himself as disciplined and strategic, building long-term political dominance at home. Both leaders rely heavily on public rallies, social media, and populist messaging to connect with their supporters.', 'Summary': 'Donald Trump and Narendra Modi are strong, nationalist leaders known for bold, populist messaging. Trump\\'s \"America First\" agenda emphasized immigration control and trade protectionism. Modi\\'s \"self-reliant India\" vision promotes Hindu identity and digital development. While Trump is globally confrontational, Modi strategically builds domestic power.'}\u001b[0m\n",
      "Thought:\u001b[32;1m\u001b[1;3mI have successfully summarized the text using the Summary Agent.\n",
      "Final Answer: Donald Trump and Narendra Modi are strong, nationalist leaders known for bold, populist messaging. Trump's \"America First\" agenda emphasized immigration control and trade protectionism. Modi's \"self-reliant India\" vision promotes Hindu identity and digital development. While Trump is globally confrontational, Modi strategically builds domestic power.\u001b[0m\n",
      "\n",
      "\u001b[1m> Finished chain.\u001b[0m\n"
     ]
    },
    {
     "data": {
      "text/plain": [
       "{'input': 'Can you please Summarize it: Donald Trump and Narendra Modi are both strong political figures known for their bold speaking styles and nationalist agendas. Trump, former President of the United States, often focused on “America First” policies, emphasizing immigration control, trade protectionism, and economic growth through deregulation. Modi, the Prime Minister of India, promotes a “self-reliant India” vision, highlighting Hindu cultural identity, digital development, and economic reforms. While Trump is seen as unpredictable and confrontational in global politics, Modi presents himself as disciplined and strategic, building long-term political dominance at home. Both leaders rely heavily on public rallies, social media, and populist messaging to connect with their supporters.',\n",
       " 'output': 'Donald Trump and Narendra Modi are strong, nationalist leaders known for bold, populist messaging. Trump\\'s \"America First\" agenda emphasized immigration control and trade protectionism. Modi\\'s \"self-reliant India\" vision promotes Hindu identity and digital development. While Trump is globally confrontational, Modi strategically builds domestic power.'}"
      ]
     },
     "execution_count": 90,
     "metadata": {},
     "output_type": "execute_result"
    }
   ],
   "source": [
    "agents.invoke(\"Can you please Summarize it: Donald Trump and Narendra Modi are both strong political figures known for their bold speaking styles and nationalist agendas. Trump, former President of the United States, often focused on “America First” policies, emphasizing immigration control, trade protectionism, and economic growth through deregulation. Modi, the Prime Minister of India, promotes a “self-reliant India” vision, highlighting Hindu cultural identity, digital development, and economic reforms. While Trump is seen as unpredictable and confrontational in global politics, Modi presents himself as disciplined and strategic, building long-term political dominance at home. Both leaders rely heavily on public rallies, social media, and populist messaging to connect with their supporters.\")"
   ]
  },
  {
   "cell_type": "markdown",
   "id": "91342b51",
   "metadata": {},
   "source": [
    "KEYWORD AGENT"
   ]
  },
  {
   "cell_type": "code",
   "execution_count": 91,
   "id": "feadb1cf",
   "metadata": {},
   "outputs": [
    {
     "name": "stdout",
     "output_type": "stream",
     "text": [
      "\n",
      "\n",
      "\u001b[1m> Entering new AgentExecutor chain...\u001b[0m\n",
      "\u001b[32;1m\u001b[1;3mThe user wants to extract keywords from the given text.\n",
      "Action: Keyword Agent\n",
      "Action Input: Talks about World War 3 often come up when powerful leaders like Donald Trump and Narendra Modi are compared, since both represent countries with huge influence on global politics. Trump’s America, with its military dominance and unpredictable foreign policy style, and Modi’s India, with its rising economic and strategic power in Asia, both play critical roles in international security. While Trump often emphasized tough stances against China, Iran, and NATO allies, Modi has been strengthening India’s position against China and Pakistan while balancing ties with the U.S. and Russia. If a conflict on the scale of World War 3 were ever to happen, leaders like Trump and Modi would shape how alliances form, how nations respond, and whether diplomacy or escalation takes the front seat.\u001b[0m\n",
      "Observation: \u001b[33;1m\u001b[1;3m{'input': 'Talks about World War 3 often come up when powerful leaders like Donald Trump and Narendra Modi are compared, since both represent countries with huge influence on global politics. Trump’s America, with its military dominance and unpredictable foreign policy style, and Modi’s India, with its rising economic and strategic power in Asia, both play critical roles in international security. While Trump often emphasized tough stances against China, Iran, and NATO allies, Modi has been strengthening India’s position against China and Pakistan while balancing ties with the U.S. and Russia. If a conflict on the scale of World War 3 were ever to happen, leaders like Trump and Modi would shape how alliances form, how nations respond, and whether diplomacy or escalation takes the front seat.', 'Keyword': 'World War 3, Donald Trump, Narendra Modi, global politics, America, military dominance, foreign policy, India, economic power, strategic power, Asia, international security, China, Iran, NATO allies, Pakistan, U.S., Russia, conflict, alliances, diplomacy, escalation'}\u001b[0m\n",
      "Thought:\u001b[32;1m\u001b[1;3mI now know the final answer\n",
      "Final Answer: The keywords are: World War 3, Donald Trump, Narendra Modi, global politics, America, military dominance, foreign policy, India, economic power, strategic power, Asia, international security, China, Iran, NATO allies, Pakistan, U.S., Russia, conflict, alliances, diplomacy, escalation.\u001b[0m\n",
      "\n",
      "\u001b[1m> Finished chain.\u001b[0m\n"
     ]
    },
    {
     "data": {
      "text/plain": [
       "{'input': 'can you please give some most important keywords from it: Talks about World War 3 often come up when powerful leaders like Donald Trump and Narendra Modi are compared, since both represent countries with huge influence on global politics. Trump’s America, with its military dominance and unpredictable foreign policy style, and Modi’s India, with its rising economic and strategic power in Asia, both play critical roles in international security. While Trump often emphasized tough stances against China, Iran, and NATO allies, Modi has been strengthening India’s position against China and Pakistan while balancing ties with the U.S. and Russia. If a conflict on the scale of World War 3 were ever to happen, leaders like Trump and Modi would shape how alliances form, how nations respond, and whether diplomacy or escalation takes the front seat.',\n",
       " 'output': 'The keywords are: World War 3, Donald Trump, Narendra Modi, global politics, America, military dominance, foreign policy, India, economic power, strategic power, Asia, international security, China, Iran, NATO allies, Pakistan, U.S., Russia, conflict, alliances, diplomacy, escalation.'}"
      ]
     },
     "execution_count": 91,
     "metadata": {},
     "output_type": "execute_result"
    }
   ],
   "source": [
    "agents.invoke(\"can you please give some most important keywords from it: Talks about World War 3 often come up when powerful leaders like Donald Trump and Narendra Modi are compared, since both represent countries with huge influence on global politics. Trump’s America, with its military dominance and unpredictable foreign policy style, and Modi’s India, with its rising economic and strategic power in Asia, both play critical roles in international security. While Trump often emphasized tough stances against China, Iran, and NATO allies, Modi has been strengthening India’s position against China and Pakistan while balancing ties with the U.S. and Russia. If a conflict on the scale of World War 3 were ever to happen, leaders like Trump and Modi would shape how alliances form, how nations respond, and whether diplomacy or escalation takes the front seat.\")"
   ]
  },
  {
   "cell_type": "markdown",
   "id": "c0ca4d5b",
   "metadata": {},
   "source": [
    "NOT AN AGENT (SIMPLE)"
   ]
  },
  {
   "cell_type": "code",
   "execution_count": 92,
   "id": "54b7ae0c",
   "metadata": {},
   "outputs": [
    {
     "name": "stdout",
     "output_type": "stream",
     "text": [
      "\n",
      "\n",
      "\u001b[1m> Entering new AgentExecutor chain...\u001b[0m\n",
      "\u001b[32;1m\u001b[1;3mThe user input is incomplete. I need more information to understand what the user wants. They just said \"Heyy\". I'll ask them what they need help with.\n",
      "Final Answer: Hey there! What can I help you with?\u001b[0m\n",
      "\n",
      "\u001b[1m> Finished chain.\u001b[0m\n"
     ]
    },
    {
     "data": {
      "text/plain": [
       "{'input': 'Heyy', 'output': 'Hey there! What can I help you with?'}"
      ]
     },
     "execution_count": 92,
     "metadata": {},
     "output_type": "execute_result"
    }
   ],
   "source": [
    "agents.invoke(\"Heyy\")"
   ]
  },
  {
   "cell_type": "code",
   "execution_count": null,
   "id": "38730f76",
   "metadata": {},
   "outputs": [],
   "source": []
  }
 ],
 "metadata": {
  "kernelspec": {
   "display_name": "Python 3",
   "language": "python",
   "name": "python3"
  },
  "language_info": {
   "codemirror_mode": {
    "name": "ipython",
    "version": 3
   },
   "file_extension": ".py",
   "mimetype": "text/x-python",
   "name": "python",
   "nbconvert_exporter": "python",
   "pygments_lexer": "ipython3",
   "version": "3.13.5"
  }
 },
 "nbformat": 4,
 "nbformat_minor": 5
}
